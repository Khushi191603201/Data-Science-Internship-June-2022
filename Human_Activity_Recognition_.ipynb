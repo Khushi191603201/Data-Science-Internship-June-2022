{
  "nbformat": 4,
  "nbformat_minor": 0,
  "metadata": {
    "colab": {
      "name": "Human Activity Recognition .ipynb",
      "provenance": [],
      "authorship_tag": "ABX9TyO0PazI1Ntbkiy1ZKRr4OWK"
    },
    "kernelspec": {
      "name": "python3",
      "display_name": "Python 3"
    },
    "language_info": {
      "name": "python"
    }
  },
  "cells": [
    {
      "cell_type": "code",
      "execution_count": null,
      "metadata": {
        "id": "GKWbU1pAHrRm"
      },
      "outputs": [],
      "source": [
        ""
      ]
    }
  ]
}