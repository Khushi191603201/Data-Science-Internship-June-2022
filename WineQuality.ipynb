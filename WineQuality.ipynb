{
  "nbformat": 4,
  "nbformat_minor": 0,
  "metadata": {
    "colab": {
      "name": "WineQuality.ipynb",
      "provenance": [],
      "mount_file_id": "14HmJNCeVrmb4IoFob_TW522AswknsThu",
      "authorship_tag": "ABX9TyNfwvCz6v5WEZS/uU0yLJin"
    },
    "kernelspec": {
      "name": "python3",
      "display_name": "Python 3"
    },
    "language_info": {
      "name": "python"
    }
  },
  "cells": [
    {
      "cell_type": "code",
      "execution_count": null,
      "metadata": {
        "id": "ZOznh8dS0Aw3"
      },
      "outputs": [],
      "source": [
        "import pandas as pd"
      ]
    },
    {
      "cell_type": "code",
      "source": [
        "df=pd.read_csv('/content/drive/MyDrive/Data Science internship june 2022/Dataset/winequalityN.csv')"
      ],
      "metadata": {
        "id": "44fxsUJL12zo"
      },
      "execution_count": null,
      "outputs": []
    },
    {
      "cell_type": "code",
      "source": [
        "from sklearn.linear_model import LinearRegression\n",
        "from sklearn.linear_model import LogisticRegression\n",
        "from sklearn.model_selection import train_test_split\n",
        "from sklearn.metrics import mean_squared_error\n",
        "from sklearn.preprocessing import LabelEncoder\n",
        "from matplotlib import pyplot as plt \n",
        "import seaborn as sns\n",
        "from sklearn.metrics import accuracy_score\n",
        "from sklearn.ensemble import GradientBoostingClassifier\n",
        "from sklearn.ensemble import RandomForestClassifier\n",
        "from sklearn.naive_bayes import GaussianNB "
      ],
      "metadata": {
        "id": "wsT_mYux2IqD"
      },
      "execution_count": null,
      "outputs": []
    },
    {
      "cell_type": "code",
      "source": [
        "lrg = LinearRegression()\n",
        "lr = LogisticRegression()\n",
        "le = LabelEncoder()\n",
        "gbc = GradientBoostingClassifier(n_estimators=10)\n",
        "rf = RandomForestClassifier(random_state=1)\n",
        "gnb = GaussianNB() "
      ],
      "metadata": {
        "id": "GsgT4YaGg_SA"
      },
      "execution_count": null,
      "outputs": []
    },
    {
      "cell_type": "code",
      "source": [
        "wht = df[df['type'] == 'white'] \n",
        "print(wht)"
      ],
      "metadata": {
        "colab": {
          "base_uri": "https://localhost:8080/"
        },
        "id": "C0t7kNIehCCd",
        "outputId": "322f8a4a-551e-44cb-ba68-2f43e9d9da18"
      },
      "execution_count": null,
      "outputs": [
        {
          "output_type": "stream",
          "name": "stdout",
          "text": [
            "       type  fixed acidity  volatile acidity  citric acid  residual sugar  \\\n",
            "0     white            7.0              0.27         0.36            20.7   \n",
            "1     white            6.3              0.30         0.34             1.6   \n",
            "2     white            8.1              0.28         0.40             6.9   \n",
            "3     white            7.2              0.23         0.32             8.5   \n",
            "4     white            7.2              0.23         0.32             8.5   \n",
            "...     ...            ...               ...          ...             ...   \n",
            "4893  white            6.2              0.21         0.29             1.6   \n",
            "4894  white            6.6              0.32         0.36             8.0   \n",
            "4895  white            6.5               NaN         0.19             1.2   \n",
            "4896  white            5.5              0.29         0.30             1.1   \n",
            "4897  white            6.0              0.21         0.38             0.8   \n",
            "\n",
            "      chlorides  free sulfur dioxide  total sulfur dioxide  density    pH  \\\n",
            "0         0.045                 45.0                 170.0  1.00100  3.00   \n",
            "1         0.049                 14.0                 132.0  0.99400  3.30   \n",
            "2         0.050                 30.0                  97.0  0.99510  3.26   \n",
            "3         0.058                 47.0                 186.0  0.99560  3.19   \n",
            "4         0.058                 47.0                 186.0  0.99560  3.19   \n",
            "...         ...                  ...                   ...      ...   ...   \n",
            "4893      0.039                 24.0                  92.0  0.99114  3.27   \n",
            "4894      0.047                 57.0                 168.0  0.99490  3.15   \n",
            "4895      0.041                 30.0                 111.0  0.99254  2.99   \n",
            "4896      0.022                 20.0                 110.0  0.98869  3.34   \n",
            "4897      0.020                 22.0                  98.0  0.98941  3.26   \n",
            "\n",
            "      sulphates  alcohol  quality  \n",
            "0          0.45      8.8        6  \n",
            "1          0.49      9.5        6  \n",
            "2          0.44     10.1        6  \n",
            "3          0.40      9.9        6  \n",
            "4          0.40      9.9        6  \n",
            "...         ...      ...      ...  \n",
            "4893       0.50     11.2        6  \n",
            "4894       0.46      9.6        5  \n",
            "4895       0.46      9.4        6  \n",
            "4896       0.38     12.8        7  \n",
            "4897       0.32     11.8        6  \n",
            "\n",
            "[4898 rows x 13 columns]\n"
          ]
        }
      ]
    },
    {
      "cell_type": "code",
      "source": [
        "newwht = (wht.isnull().sum())\n",
        "print(newwht)"
      ],
      "metadata": {
        "colab": {
          "base_uri": "https://localhost:8080/"
        },
        "id": "PAz3A_zuhD78",
        "outputId": "708dbe91-0c25-4468-a756-caf73e792860"
      },
      "execution_count": null,
      "outputs": [
        {
          "output_type": "stream",
          "name": "stdout",
          "text": [
            "type                    0\n",
            "fixed acidity           8\n",
            "volatile acidity        7\n",
            "citric acid             2\n",
            "residual sugar          2\n",
            "chlorides               2\n",
            "free sulfur dioxide     0\n",
            "total sulfur dioxide    0\n",
            "density                 0\n",
            "pH                      7\n",
            "sulphates               2\n",
            "alcohol                 0\n",
            "quality                 0\n",
            "dtype: int64\n"
          ]
        }
      ]
    },
    {
      "cell_type": "code",
      "source": [
        "nwt1 = (df['fixed acidity'].fillna((df['fixed acidity'].mean()),inplace=True))\n",
        "nwt2 = (df['volatile acidity'].fillna((df['volatile acidity'].mean()),inplace=True))\n",
        "nwt3 = (df['citric acid'].fillna((df['citric acid'].mean()),inplace=True))\n",
        "nwt4 = df['residual sugar'].fillna((df['residual sugar'].mean()),inplace=True)\n",
        "nwt5 = df['chlorides'].fillna((df['chlorides'].mean()),inplace=True)\n",
        "nwt6 = df['free sulfur dioxide'].fillna((df['free sulfur dioxide'].mean()),inplace=True)\n",
        "nwt7 = df['total sulfur dioxide'].fillna((df['total sulfur dioxide'].mean()),inplace=True)\n",
        "nwt8 = df['density'].fillna((df['density'].mean()),inplace=True)\n",
        "nwt9 = df['pH'].fillna((df['pH'].mean()),inplace=True)\n",
        "nwt10 = df['sulphates'].fillna((df['sulphates'].mean()),inplace=True)\n",
        "nwt11 = df['alcohol'].fillna((df['alcohol'].mean()),inplace=True)\n",
        "nwt12 = df['quality'].fillna((df['quality'].mean()),inplace=True)\n",
        "dff = ['nwt1','nwt2','nwt3','nwt4','nwt5','nwt6','nwt7','nwt8','nwt9','nwt10','nwt11','nwt12']\n",
        "\n",
        "print(dff)\n",
        "#newwht2 = (nwt1.isnull().sum())\n",
        "#print(newwht2)"
      ],
      "metadata": {
        "colab": {
          "base_uri": "https://localhost:8080/"
        },
        "id": "tivnthpthG6P",
        "outputId": "619bfbd9-2635-45e5-a93c-95a8eae2fb77"
      },
      "execution_count": null,
      "outputs": [
        {
          "output_type": "stream",
          "name": "stdout",
          "text": [
            "['nwt1', 'nwt2', 'nwt3', 'nwt4', 'nwt5', 'nwt6', 'nwt7', 'nwt8', 'nwt9', 'nwt10', 'nwt11', 'nwt12']\n"
          ]
        }
      ]
    },
    {
      "cell_type": "code",
      "source": [
        "nwt = df.fillna(0)\n",
        "x = nwt.drop('type',axis=1)\n",
        "x = x.drop('quality',axis=1)\n",
        "print(x)\n",
        "y = nwt['quality']"
      ],
      "metadata": {
        "colab": {
          "base_uri": "https://localhost:8080/"
        },
        "id": "lqujcCx3hJrU",
        "outputId": "172bfc86-b425-410a-8656-486c8f348274"
      },
      "execution_count": null,
      "outputs": [
        {
          "output_type": "stream",
          "name": "stdout",
          "text": [
            "      fixed acidity  volatile acidity  citric acid  residual sugar  chlorides  \\\n",
            "0               7.0             0.270         0.36            20.7      0.045   \n",
            "1               6.3             0.300         0.34             1.6      0.049   \n",
            "2               8.1             0.280         0.40             6.9      0.050   \n",
            "3               7.2             0.230         0.32             8.5      0.058   \n",
            "4               7.2             0.230         0.32             8.5      0.058   \n",
            "...             ...               ...          ...             ...        ...   \n",
            "6492            6.2             0.600         0.08             2.0      0.090   \n",
            "6493            5.9             0.550         0.10             2.2      0.062   \n",
            "6494            6.3             0.510         0.13             2.3      0.076   \n",
            "6495            5.9             0.645         0.12             2.0      0.075   \n",
            "6496            6.0             0.310         0.47             3.6      0.067   \n",
            "\n",
            "      free sulfur dioxide  total sulfur dioxide  density    pH  sulphates  \\\n",
            "0                    45.0                 170.0  1.00100  3.00   0.450000   \n",
            "1                    14.0                 132.0  0.99400  3.30   0.490000   \n",
            "2                    30.0                  97.0  0.99510  3.26   0.440000   \n",
            "3                    47.0                 186.0  0.99560  3.19   0.400000   \n",
            "4                    47.0                 186.0  0.99560  3.19   0.400000   \n",
            "...                   ...                   ...      ...   ...        ...   \n",
            "6492                 32.0                  44.0  0.99490  3.45   0.580000   \n",
            "6493                 39.0                  51.0  0.99512  3.52   0.531215   \n",
            "6494                 29.0                  40.0  0.99574  3.42   0.750000   \n",
            "6495                 32.0                  44.0  0.99547  3.57   0.710000   \n",
            "6496                 18.0                  42.0  0.99549  3.39   0.660000   \n",
            "\n",
            "      alcohol  \n",
            "0         8.8  \n",
            "1         9.5  \n",
            "2        10.1  \n",
            "3         9.9  \n",
            "4         9.9  \n",
            "...       ...  \n",
            "6492     10.5  \n",
            "6493     11.2  \n",
            "6494     11.0  \n",
            "6495     10.2  \n",
            "6496     11.0  \n",
            "\n",
            "[6497 rows x 11 columns]\n"
          ]
        }
      ]
    },
    {
      "cell_type": "code",
      "source": [
        "df.boxplot()\n",
        "plt.show()"
      ],
      "metadata": {
        "colab": {
          "base_uri": "https://localhost:8080/",
          "height": 265
        },
        "id": "rOCPf8w8hNSW",
        "outputId": "c67a775b-014c-4d22-eec4-7eabff0edd66"
      },
      "execution_count": null,
      "outputs": [
        {
          "output_type": "display_data",
          "data": {
            "text/plain": [
              "<Figure size 432x288 with 1 Axes>"
            ],
            "image/png": "[encoded data removed]"
          },
          "metadata": {
            "needs_background": "light"
          }
        }
      ]
    },
    {
      "cell_type": "code",
      "source": [
        "X_train, X_test, Y_train, Y_test = train_test_split(x,y,random_state=0,test_size=0.3)"
      ],
      "metadata": {
        "id": "EVu9xyHxhQOT"
      },
      "execution_count": null,
      "outputs": []
    },
    {
      "cell_type": "markdown",
      "source": [
        "Linear Regression"
      ],
      "metadata": {
        "id": "_gYmHlFohYWr"
      }
    },
    {
      "cell_type": "code",
      "source": [
        "train = lr.fit(X_train, Y_train)"
      ],
      "metadata": {
        "colab": {
          "base_uri": "https://localhost:8080/"
        },
        "id": "AkhrcYybhQ6d",
        "outputId": "00b210ce-2ea1-41dc-fbda-3a44c968b46e"
      },
      "execution_count": null,
      "outputs": [
        {
          "output_type": "stream",
          "name": "stderr",
          "text": [
            "/usr/local/lib/python3.7/dist-packages/sklearn/linear_model/_logistic.py:818: ConvergenceWarning: lbfgs failed to converge (status=1):\n",
            "STOP: TOTAL NO. of ITERATIONS REACHED LIMIT.\n",
            "\n",
            "Increase the number of iterations (max_iter) or scale the data as shown in:\n",
            "    https://scikit-learn.org/stable/modules/preprocessing.html\n",
            "Please also refer to the documentation for alternative solver options:\n",
            "    https://scikit-learn.org/stable/modules/linear_model.html#logistic-regression\n",
            "  extra_warning_msg=_LOGISTIC_SOLVER_CONVERGENCE_MSG,\n"
          ]
        }
      ]
    },
    {
      "cell_type": "code",
      "source": [
        "y_pred = lr.predict(X_test)"
      ],
      "metadata": {
        "id": "kztYNQzGhTBr"
      },
      "execution_count": null,
      "outputs": []
    },
    {
      "cell_type": "code",
      "source": [
        "print(accuracy_score(Y_test, y_pred))"
      ],
      "metadata": {
        "colab": {
          "base_uri": "https://localhost:8080/"
        },
        "id": "__2wRVaHhVGL",
        "outputId": "6f11c29d-9e34-4b9e-afb2-f05abe617fff"
      },
      "execution_count": null,
      "outputs": [
        {
          "output_type": "stream",
          "name": "stdout",
          "text": [
            "0.46307692307692305\n"
          ]
        }
      ]
    },
    {
      "cell_type": "markdown",
      "source": [
        "Gradient Boosting"
      ],
      "metadata": {
        "id": "Wzm9OAT1hhLA"
      }
    },
    {
      "cell_type": "code",
      "source": [
        "train_gbc =gbc.fit(X_train, Y_train)"
      ],
      "metadata": {
        "id": "g7C7unLphXNK"
      },
      "execution_count": null,
      "outputs": []
    },
    {
      "cell_type": "code",
      "source": [
        "gbc_pred = gbc.predict(X_test)"
      ],
      "metadata": {
        "id": "2Fu3mCh-hmpj"
      },
      "execution_count": null,
      "outputs": []
    },
    {
      "cell_type": "code",
      "source": [
        "print(accuracy_score(Y_test, gbc_pred))"
      ],
      "metadata": {
        "colab": {
          "base_uri": "https://localhost:8080/"
        },
        "id": "XQBJpn89hn78",
        "outputId": "719ba731-cf9a-4b1e-f16d-59277923549a"
      },
      "execution_count": null,
      "outputs": [
        {
          "output_type": "stream",
          "name": "stdout",
          "text": [
            "0.5523076923076923\n"
          ]
        }
      ]
    },
    {
      "cell_type": "markdown",
      "source": [
        "Random Forest"
      ],
      "metadata": {
        "id": "LSxlkfInhzsl"
      }
    },
    {
      "cell_type": "code",
      "source": [
        "train_rf = rf.fit(X_train, Y_train)"
      ],
      "metadata": {
        "id": "Mwp7Q8_thpNH"
      },
      "execution_count": null,
      "outputs": []
    },
    {
      "cell_type": "code",
      "source": [
        "rf_pred = rf.predict(X_test)"
      ],
      "metadata": {
        "id": "Sw8ippF0hrVo"
      },
      "execution_count": null,
      "outputs": []
    },
    {
      "cell_type": "code",
      "source": [
        "print(accuracy_score(Y_test, rf_pred))"
      ],
      "metadata": {
        "colab": {
          "base_uri": "https://localhost:8080/"
        },
        "id": "1V08_K4qhrXx",
        "outputId": "3bf35893-543d-47ec-bcbd-27320f156ef9"
      },
      "execution_count": null,
      "outputs": [
        {
          "output_type": "stream",
          "name": "stdout",
          "text": [
            "0.6758974358974359\n"
          ]
        }
      ]
    },
    {
      "cell_type": "markdown",
      "source": [
        "GaussionNB"
      ],
      "metadata": {
        "id": "JaTCedUrh97W"
      }
    },
    {
      "cell_type": "code",
      "source": [
        "train_gnb = gnb.fit(X_train, Y_train)\n",
        "gnb_pred = gnb.predict(X_test)\n",
        "print(accuracy_score(Y_test, gnb_pred))"
      ],
      "metadata": {
        "colab": {
          "base_uri": "https://localhost:8080/"
        },
        "id": "pgoIqHNIhram",
        "outputId": "db10b183-ba8f-47f0-ddb1-325492d73a3a"
      },
      "execution_count": null,
      "outputs": [
        {
          "output_type": "stream",
          "name": "stdout",
          "text": [
            "0.4605128205128205\n"
          ]
        }
      ]
    }
  ]
}