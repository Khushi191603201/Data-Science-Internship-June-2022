{
  "nbformat": 4,
  "nbformat_minor": 0,
  "metadata": {
    "colab": {
      "name": "Iris(logistic regression).ipynb",
      "provenance": [],
      "mount_file_id": "1AjBfN5XEsRWcIPPNrtwdAcx81HVPO_s8",
      "authorship_tag": "ABX9TyOXNl3XyzyH4vhWbHemfvb3",
      "include_colab_link": true
    },
    "kernelspec": {
      "name": "python3",
      "display_name": "Python 3"
    },
    "language_info": {
      "name": "python"
    }
  },
  "cells": [
    {
      "cell_type": "markdown",
      "metadata": {
        "id": "view-in-github",
        "colab_type": "text"
      },
      "source": [
        "<a href=\"https://colab.research.google.com/github/Khushi191603201/Data-Science-Internship-June-2022/blob/main/Iris.ipynb\" target=\"_parent\"><img src=\"https://colab.research.google.com/assets/colab-badge.svg\" alt=\"Open In Colab\"/></a>"
      ]
    },
    {
      "cell_type": "code",
      "execution_count": 1,
      "metadata": {
        "id": "Fkqbq7Fde78j"
      },
      "outputs": [],
      "source": [
        "import pandas as pd"
      ]
    },
    {
      "cell_type": "code",
      "source": [
        "df=pd.read_csv('/content/drive/MyDrive/Data Science internship june 2022/IRIS.csv')"
      ],
      "metadata": {
        "id": "o_6J3j6SfQoV"
      },
      "execution_count": 2,
      "outputs": []
    },
    {
      "cell_type": "markdown",
      "source": [
        "ALGORITHMS TO STUDY\n",
        "\n",
        "*   logistic regression\n",
        "*   svm\n",
        "*   naive bayes\n",
        "*   decision tree\n",
        "*   random forest\n",
        "*   gradient boosting method\n",
        "*   neural networks\n",
        "\n",
        "\n",
        "\n",
        "\n"
      ],
      "metadata": {
        "id": "0th4A2dg91Uy"
      }
    },
    {
      "cell_type": "code",
      "source": [
        "from sklearn.model_selection import train_test_split\n",
        "from sklearn.metrics import confusion_matrix\n",
        "from sklearn.metrics import classification_report\n",
        "from sklearn.metrics import accuracy_score\n",
        "from sklearn.linear_model import LogisticRegression\n",
        "from sklearn.tree import DecisionTreeClassifier\n",
        "from sklearn import svm\n",
        "from sklearn.ensemble import RandomForestClassifier\n",
        "from sklearn.ensemble import GradientBoostingClassifier\n",
        "from sklearn.neural_network import MLPClassifier\n",
        "from sklearn.naive_bayes import MultinomialNB\n",
        "from sklearn.naive_bayes import GaussianNB\n",
        "from sklearn import metrics"
      ],
      "metadata": {
        "id": "YK_uc_GGh53k"
      },
      "execution_count": 3,
      "outputs": []
    },
    {
      "cell_type": "markdown",
      "source": [
        "**DECLARATION**"
      ],
      "metadata": {
        "id": "rwNB8QjXXNP2"
      }
    },
    {
      "cell_type": "code",
      "source": [
        "lr=LogisticRegression()\n",
        "rf=RandomForestClassifier(random_state=1)\n",
        "gbc=GradientBoostingClassifier(n_estimators=10)\n",
        "dt=DecisionTreeClassifier(random_state=0)\n",
        "sv=svm.SVC()\n",
        "nn=MLPClassifier(solver='lbfgs',alpha=1e-5,hidden_layer_sizes=(5,2),random_state=0)\n",
        "gnb=GaussianNB()"
      ],
      "metadata": {
        "id": "MmKLdoJZiXqs"
      },
      "execution_count": 4,
      "outputs": []
    },
    {
      "cell_type": "markdown",
      "source": [
        "**PRE-PROCESSING**"
      ],
      "metadata": {
        "id": "4DakluOKYtDf"
      }
    },
    {
      "cell_type": "code",
      "source": [
        "x=df.drop('species', axis=1)\n",
        "print(x)"
      ],
      "metadata": {
        "colab": {
          "base_uri": "https://localhost:8080/"
        },
        "id": "RuCD7D7WlI2L",
        "outputId": "5ba81946-1858-4942-d9b0-25e7c70ac88e"
      },
      "execution_count": 5,
      "outputs": [
        {
          "output_type": "stream",
          "name": "stdout",
          "text": [
            "     sepal_length  sepal_width  petal_length  petal_width\n",
            "0             5.1          3.5           1.4          0.2\n",
            "1             4.9          3.0           1.4          0.2\n",
            "2             4.7          3.2           1.3          0.2\n",
            "3             4.6          3.1           1.5          0.2\n",
            "4             5.0          3.6           1.4          0.2\n",
            "..            ...          ...           ...          ...\n",
            "145           6.7          3.0           5.2          2.3\n",
            "146           6.3          2.5           5.0          1.9\n",
            "147           6.5          3.0           5.2          2.0\n",
            "148           6.2          3.4           5.4          2.3\n",
            "149           5.9          3.0           5.1          1.8\n",
            "\n",
            "[150 rows x 4 columns]\n"
          ]
        }
      ]
    },
    {
      "cell_type": "code",
      "source": [
        "y=df['species']\n",
        "print(y)"
      ],
      "metadata": {
        "colab": {
          "base_uri": "https://localhost:8080/"
        },
        "id": "EUm9N3vVlclC",
        "outputId": "fa7dcaab-d3ec-446a-ed67-9360dcfd1b62"
      },
      "execution_count": 6,
      "outputs": [
        {
          "output_type": "stream",
          "name": "stdout",
          "text": [
            "0         Iris-setosa\n",
            "1         Iris-setosa\n",
            "2         Iris-setosa\n",
            "3         Iris-setosa\n",
            "4         Iris-setosa\n",
            "            ...      \n",
            "145    Iris-virginica\n",
            "146    Iris-virginica\n",
            "147    Iris-virginica\n",
            "148    Iris-virginica\n",
            "149    Iris-virginica\n",
            "Name: species, Length: 150, dtype: object\n"
          ]
        }
      ]
    },
    {
      "cell_type": "code",
      "source": [
        "x_train,x_test,y_train,y_test= train_test_split(x,y,random_state=0,test_size=0.3)"
      ],
      "metadata": {
        "id": "MhnW9Eaal3xj"
      },
      "execution_count": 7,
      "outputs": []
    },
    {
      "cell_type": "code",
      "source": [
        "print(y_train)"
      ],
      "metadata": {
        "colab": {
          "base_uri": "https://localhost:8080/"
        },
        "id": "I7NRpE3eotVc",
        "outputId": "2089f187-d87a-4102-c049-ecdc7b6b737d"
      },
      "execution_count": 8,
      "outputs": [
        {
          "output_type": "stream",
          "name": "stdout",
          "text": [
            "60     Iris-versicolor\n",
            "116     Iris-virginica\n",
            "144     Iris-virginica\n",
            "119     Iris-virginica\n",
            "108     Iris-virginica\n",
            "            ...       \n",
            "9          Iris-setosa\n",
            "103     Iris-virginica\n",
            "67     Iris-versicolor\n",
            "117     Iris-virginica\n",
            "47         Iris-setosa\n",
            "Name: species, Length: 105, dtype: object\n"
          ]
        }
      ]
    },
    {
      "cell_type": "markdown",
      "source": [
        "**LOGISTIC REGRESSION**"
      ],
      "metadata": {
        "id": "r7M_kAFgU5WZ"
      }
    },
    {
      "cell_type": "code",
      "source": [
        "train=lr.fit(x_train,y_train)"
      ],
      "metadata": {
        "id": "NQ_9cTpDo1Ri"
      },
      "execution_count": 9,
      "outputs": []
    },
    {
      "cell_type": "code",
      "source": [
        "y_pred=lr.predict(x_test)"
      ],
      "metadata": {
        "id": "yyu4TKcAp_wK"
      },
      "execution_count": 10,
      "outputs": []
    },
    {
      "cell_type": "code",
      "source": [
        "print(accuracy_score(y_test,y_pred))"
      ],
      "metadata": {
        "colab": {
          "base_uri": "https://localhost:8080/"
        },
        "id": "EzTXMTIbqOqS",
        "outputId": "8311e39e-7aa1-46ab-de47-1ad2d70ceab8"
      },
      "execution_count": 11,
      "outputs": [
        {
          "output_type": "stream",
          "name": "stdout",
          "text": [
            "0.9777777777777777\n"
          ]
        }
      ]
    },
    {
      "cell_type": "code",
      "source": [
        "confusion_matrix = confusion_matrix(y_test, y_pred)\n",
        "print(confusion_matrix)"
      ],
      "metadata": {
        "id": "DCtj26fGqkVl",
        "colab": {
          "base_uri": "https://localhost:8080/"
        },
        "outputId": "bcfa2fff-ba1c-4221-c671-d51ad564775f"
      },
      "execution_count": 12,
      "outputs": [
        {
          "output_type": "stream",
          "name": "stdout",
          "text": [
            "[[16  0  0]\n",
            " [ 0 17  1]\n",
            " [ 0  0 11]]\n"
          ]
        }
      ]
    },
    {
      "cell_type": "markdown",
      "source": [
        "**RANDOM FOREST CLASSIFIER**"
      ],
      "metadata": {
        "id": "C-QvVaVJU_fX"
      }
    },
    {
      "cell_type": "code",
      "source": [
        "rf_train=rf.fit(x_train,y_train)"
      ],
      "metadata": {
        "id": "_1ytFaXbZMv3"
      },
      "execution_count": 13,
      "outputs": []
    },
    {
      "cell_type": "code",
      "source": [
        "rf_pred=rf.predict(x_test)"
      ],
      "metadata": {
        "id": "ucW9xMAjaNrX"
      },
      "execution_count": 14,
      "outputs": []
    },
    {
      "cell_type": "code",
      "source": [
        "print(accuracy_score(y_test,rf_pred))"
      ],
      "metadata": {
        "colab": {
          "base_uri": "https://localhost:8080/"
        },
        "id": "Je_-Gjc9aWLN",
        "outputId": "9b425a47-26be-46c1-df51-272c25ca20b5"
      },
      "execution_count": 15,
      "outputs": [
        {
          "output_type": "stream",
          "name": "stdout",
          "text": [
            "0.9777777777777777\n"
          ]
        }
      ]
    },
    {
      "cell_type": "markdown",
      "source": [
        "**DECISION TREE**"
      ],
      "metadata": {
        "id": "s9L3cwvGat5P"
      }
    },
    {
      "cell_type": "code",
      "source": [
        "dt_train=dt.fit(x_train,y_train)"
      ],
      "metadata": {
        "id": "p7A3tHvya0m-"
      },
      "execution_count": 16,
      "outputs": []
    },
    {
      "cell_type": "code",
      "source": [
        "dt_pred=dt.predict(x_test)"
      ],
      "metadata": {
        "id": "YYthaFvrbGLX"
      },
      "execution_count": 17,
      "outputs": []
    },
    {
      "cell_type": "code",
      "source": [
        "print(accuracy_score(y_test,dt_pred))"
      ],
      "metadata": {
        "colab": {
          "base_uri": "https://localhost:8080/"
        },
        "id": "QJ7cgIgtbKV-",
        "outputId": "ed93293a-5888-4d85-c553-b86087c4a6a9"
      },
      "execution_count": 18,
      "outputs": [
        {
          "output_type": "stream",
          "name": "stdout",
          "text": [
            "0.9777777777777777\n"
          ]
        }
      ]
    },
    {
      "cell_type": "markdown",
      "source": [
        "**GRADIENT BOOSTING METHOD**"
      ],
      "metadata": {
        "id": "O0QZhhxublQo"
      }
    },
    {
      "cell_type": "code",
      "source": [
        "gbc_train=gbc.fit(x_train,y_train)"
      ],
      "metadata": {
        "id": "30C0YvcVbtGO"
      },
      "execution_count": 19,
      "outputs": []
    },
    {
      "cell_type": "code",
      "source": [
        "gbc_pred=gbc.predict(x_test)"
      ],
      "metadata": {
        "id": "Ld-Kr-JHcJ4v"
      },
      "execution_count": 20,
      "outputs": []
    },
    {
      "cell_type": "code",
      "source": [
        "print(accuracy_score(y_test,gbc_pred))"
      ],
      "metadata": {
        "colab": {
          "base_uri": "https://localhost:8080/"
        },
        "id": "r9pFinOjcTTt",
        "outputId": "d5aa2047-ff55-44c5-f940-5aea57d49ed3"
      },
      "execution_count": 21,
      "outputs": [
        {
          "output_type": "stream",
          "name": "stdout",
          "text": [
            "0.9777777777777777\n"
          ]
        }
      ]
    },
    {
      "cell_type": "markdown",
      "source": [
        "**SVM**"
      ],
      "metadata": {
        "id": "RLpTYCxschIm"
      }
    },
    {
      "cell_type": "code",
      "source": [
        "sv_train=sv.fit(x_train,y_train)"
      ],
      "metadata": {
        "id": "RENKqPg7cZPs"
      },
      "execution_count": 22,
      "outputs": []
    },
    {
      "cell_type": "code",
      "source": [
        "sv_pred=sv.predict(x_test)"
      ],
      "metadata": {
        "id": "g7qh-pPkc_gu"
      },
      "execution_count": 23,
      "outputs": []
    },
    {
      "cell_type": "code",
      "source": [
        "print(accuracy_score(y_test,sv_pred))"
      ],
      "metadata": {
        "colab": {
          "base_uri": "https://localhost:8080/"
        },
        "id": "mBmOpISgdGD9",
        "outputId": "04244816-dce5-47b2-b4c6-3f764263f351"
      },
      "execution_count": 24,
      "outputs": [
        {
          "output_type": "stream",
          "name": "stdout",
          "text": [
            "0.9777777777777777\n"
          ]
        }
      ]
    },
    {
      "cell_type": "markdown",
      "source": [
        "**NAIVE BAYES**"
      ],
      "metadata": {
        "id": "EdzbXE4FdMev"
      }
    },
    {
      "cell_type": "code",
      "source": [
        "gnb_train=gnb.fit(x_train,y_train)"
      ],
      "metadata": {
        "id": "ywC00oJIdHvt"
      },
      "execution_count": 25,
      "outputs": []
    },
    {
      "cell_type": "code",
      "source": [
        "gnb_pred=gnb.predict(x_test)"
      ],
      "metadata": {
        "id": "jJ6NVKihdlLe"
      },
      "execution_count": 26,
      "outputs": []
    },
    {
      "cell_type": "code",
      "source": [
        "print(accuracy_score(y_test,gnb_pred))"
      ],
      "metadata": {
        "colab": {
          "base_uri": "https://localhost:8080/"
        },
        "id": "PjPRveofdsNs",
        "outputId": "a42fac21-c6d9-47cf-c08b-c027c7b2f79c"
      },
      "execution_count": 27,
      "outputs": [
        {
          "output_type": "stream",
          "name": "stdout",
          "text": [
            "1.0\n"
          ]
        }
      ]
    },
    {
      "cell_type": "markdown",
      "source": [
        "**ARTIFICAL NEURAL NETWORKS**"
      ],
      "metadata": {
        "id": "Tju17LPwdvyh"
      }
    },
    {
      "cell_type": "code",
      "source": [
        "nn_train=nn.fit(x_train,y_train)"
      ],
      "metadata": {
        "id": "zvOSf1SjduRM"
      },
      "execution_count": 28,
      "outputs": []
    },
    {
      "cell_type": "code",
      "source": [
        "nn_pred=nn.predict(x_test)"
      ],
      "metadata": {
        "id": "2ABnE0z8e-JK"
      },
      "execution_count": 30,
      "outputs": []
    },
    {
      "cell_type": "code",
      "source": [
        "print(accuracy_score(y_test,nn_pred))"
      ],
      "metadata": {
        "colab": {
          "base_uri": "https://localhost:8080/"
        },
        "id": "o9hDD4zAfCDy",
        "outputId": "3d528bd1-58db-4200-f4c4-73cd0a06112b"
      },
      "execution_count": 31,
      "outputs": [
        {
          "output_type": "stream",
          "name": "stdout",
          "text": [
            "0.24444444444444444\n"
          ]
        }
      ]
    }
  ]
}